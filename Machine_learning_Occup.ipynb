{
  "nbformat": 4,
  "nbformat_minor": 0,
  "metadata": {
    "colab": {
      "provenance": [],
      "gpuType": "T4"
    },
    "kernelspec": {
      "name": "python3",
      "display_name": "Python 3"
    },
    "language_info": {
      "name": "python"
    },
    "accelerator": "GPU"
  },
  "cells": [
    {
      "cell_type": "code",
      "source": [
        "from google.colab import drive\n",
        "drive.mount('/content/drive')"
      ],
      "metadata": {
        "colab": {
          "base_uri": "https://localhost:8080/",
          "height": 322
        },
        "id": "ZvenervllN4H",
        "outputId": "d4e34874-6057-49d3-df25-8996b9cf5157"
      },
      "execution_count": 1,
      "outputs": [
        {
          "output_type": "error",
          "ename": "MessageError",
          "evalue": "Error: credential propagation was unsuccessful",
          "traceback": [
            "\u001b[0;31m---------------------------------------------------------------------------\u001b[0m",
            "\u001b[0;31mMessageError\u001b[0m                              Traceback (most recent call last)",
            "\u001b[0;32m<ipython-input-1-d5df0069828e>\u001b[0m in \u001b[0;36m<cell line: 2>\u001b[0;34m()\u001b[0m\n\u001b[1;32m      1\u001b[0m \u001b[0;32mfrom\u001b[0m \u001b[0mgoogle\u001b[0m\u001b[0;34m.\u001b[0m\u001b[0mcolab\u001b[0m \u001b[0;32mimport\u001b[0m \u001b[0mdrive\u001b[0m\u001b[0;34m\u001b[0m\u001b[0;34m\u001b[0m\u001b[0m\n\u001b[0;32m----> 2\u001b[0;31m \u001b[0mdrive\u001b[0m\u001b[0;34m.\u001b[0m\u001b[0mmount\u001b[0m\u001b[0;34m(\u001b[0m\u001b[0;34m'/content/drive'\u001b[0m\u001b[0;34m)\u001b[0m\u001b[0;34m\u001b[0m\u001b[0;34m\u001b[0m\u001b[0m\n\u001b[0m",
            "\u001b[0;32m/usr/local/lib/python3.10/dist-packages/google/colab/drive.py\u001b[0m in \u001b[0;36mmount\u001b[0;34m(mountpoint, force_remount, timeout_ms, readonly)\u001b[0m\n\u001b[1;32m     98\u001b[0m \u001b[0;32mdef\u001b[0m \u001b[0mmount\u001b[0m\u001b[0;34m(\u001b[0m\u001b[0mmountpoint\u001b[0m\u001b[0;34m,\u001b[0m \u001b[0mforce_remount\u001b[0m\u001b[0;34m=\u001b[0m\u001b[0;32mFalse\u001b[0m\u001b[0;34m,\u001b[0m \u001b[0mtimeout_ms\u001b[0m\u001b[0;34m=\u001b[0m\u001b[0;36m120000\u001b[0m\u001b[0;34m,\u001b[0m \u001b[0mreadonly\u001b[0m\u001b[0;34m=\u001b[0m\u001b[0;32mFalse\u001b[0m\u001b[0;34m)\u001b[0m\u001b[0;34m:\u001b[0m\u001b[0;34m\u001b[0m\u001b[0;34m\u001b[0m\u001b[0m\n\u001b[1;32m     99\u001b[0m   \u001b[0;34m\"\"\"Mount your Google Drive at the specified mountpoint path.\"\"\"\u001b[0m\u001b[0;34m\u001b[0m\u001b[0;34m\u001b[0m\u001b[0m\n\u001b[0;32m--> 100\u001b[0;31m   return _mount(\n\u001b[0m\u001b[1;32m    101\u001b[0m       \u001b[0mmountpoint\u001b[0m\u001b[0;34m,\u001b[0m\u001b[0;34m\u001b[0m\u001b[0;34m\u001b[0m\u001b[0m\n\u001b[1;32m    102\u001b[0m       \u001b[0mforce_remount\u001b[0m\u001b[0;34m=\u001b[0m\u001b[0mforce_remount\u001b[0m\u001b[0;34m,\u001b[0m\u001b[0;34m\u001b[0m\u001b[0;34m\u001b[0m\u001b[0m\n",
            "\u001b[0;32m/usr/local/lib/python3.10/dist-packages/google/colab/drive.py\u001b[0m in \u001b[0;36m_mount\u001b[0;34m(mountpoint, force_remount, timeout_ms, ephemeral, readonly)\u001b[0m\n\u001b[1;32m    131\u001b[0m   )\n\u001b[1;32m    132\u001b[0m   \u001b[0;32mif\u001b[0m \u001b[0mephemeral\u001b[0m\u001b[0;34m:\u001b[0m\u001b[0;34m\u001b[0m\u001b[0;34m\u001b[0m\u001b[0m\n\u001b[0;32m--> 133\u001b[0;31m     _message.blocking_request(\n\u001b[0m\u001b[1;32m    134\u001b[0m         \u001b[0;34m'request_auth'\u001b[0m\u001b[0;34m,\u001b[0m \u001b[0mrequest\u001b[0m\u001b[0;34m=\u001b[0m\u001b[0;34m{\u001b[0m\u001b[0;34m'authType'\u001b[0m\u001b[0;34m:\u001b[0m \u001b[0;34m'dfs_ephemeral'\u001b[0m\u001b[0;34m}\u001b[0m\u001b[0;34m,\u001b[0m \u001b[0mtimeout_sec\u001b[0m\u001b[0;34m=\u001b[0m\u001b[0;32mNone\u001b[0m\u001b[0;34m\u001b[0m\u001b[0;34m\u001b[0m\u001b[0m\n\u001b[1;32m    135\u001b[0m     )\n",
            "\u001b[0;32m/usr/local/lib/python3.10/dist-packages/google/colab/_message.py\u001b[0m in \u001b[0;36mblocking_request\u001b[0;34m(request_type, request, timeout_sec, parent)\u001b[0m\n\u001b[1;32m    174\u001b[0m       \u001b[0mrequest_type\u001b[0m\u001b[0;34m,\u001b[0m \u001b[0mrequest\u001b[0m\u001b[0;34m,\u001b[0m \u001b[0mparent\u001b[0m\u001b[0;34m=\u001b[0m\u001b[0mparent\u001b[0m\u001b[0;34m,\u001b[0m \u001b[0mexpect_reply\u001b[0m\u001b[0;34m=\u001b[0m\u001b[0;32mTrue\u001b[0m\u001b[0;34m\u001b[0m\u001b[0;34m\u001b[0m\u001b[0m\n\u001b[1;32m    175\u001b[0m   )\n\u001b[0;32m--> 176\u001b[0;31m   \u001b[0;32mreturn\u001b[0m \u001b[0mread_reply_from_input\u001b[0m\u001b[0;34m(\u001b[0m\u001b[0mrequest_id\u001b[0m\u001b[0;34m,\u001b[0m \u001b[0mtimeout_sec\u001b[0m\u001b[0;34m)\u001b[0m\u001b[0;34m\u001b[0m\u001b[0;34m\u001b[0m\u001b[0m\n\u001b[0m",
            "\u001b[0;32m/usr/local/lib/python3.10/dist-packages/google/colab/_message.py\u001b[0m in \u001b[0;36mread_reply_from_input\u001b[0;34m(message_id, timeout_sec)\u001b[0m\n\u001b[1;32m    101\u001b[0m     ):\n\u001b[1;32m    102\u001b[0m       \u001b[0;32mif\u001b[0m \u001b[0;34m'error'\u001b[0m \u001b[0;32min\u001b[0m \u001b[0mreply\u001b[0m\u001b[0;34m:\u001b[0m\u001b[0;34m\u001b[0m\u001b[0;34m\u001b[0m\u001b[0m\n\u001b[0;32m--> 103\u001b[0;31m         \u001b[0;32mraise\u001b[0m \u001b[0mMessageError\u001b[0m\u001b[0;34m(\u001b[0m\u001b[0mreply\u001b[0m\u001b[0;34m[\u001b[0m\u001b[0;34m'error'\u001b[0m\u001b[0;34m]\u001b[0m\u001b[0;34m)\u001b[0m\u001b[0;34m\u001b[0m\u001b[0;34m\u001b[0m\u001b[0m\n\u001b[0m\u001b[1;32m    104\u001b[0m       \u001b[0;32mreturn\u001b[0m \u001b[0mreply\u001b[0m\u001b[0;34m.\u001b[0m\u001b[0mget\u001b[0m\u001b[0;34m(\u001b[0m\u001b[0;34m'data'\u001b[0m\u001b[0;34m,\u001b[0m \u001b[0;32mNone\u001b[0m\u001b[0;34m)\u001b[0m\u001b[0;34m\u001b[0m\u001b[0;34m\u001b[0m\u001b[0m\n\u001b[1;32m    105\u001b[0m \u001b[0;34m\u001b[0m\u001b[0m\n",
            "\u001b[0;31mMessageError\u001b[0m: Error: credential propagation was unsuccessful"
          ]
        }
      ]
    },
    {
      "cell_type": "code",
      "source": [
        "from keras.models import Sequential\n",
        "from keras.layers import Dense, Flatten, Dropout\n",
        "from keras.callbacks import EarlyStopping\n",
        "from keras.optimizers import SGD, Adam, Adamax\n",
        "from keras.utils import to_categorical\n",
        "import datetime\n",
        "import pandas as pd\n",
        "import numpy as np\n",
        "import matplotlib.pyplot as plt\n",
        "import glob\n",
        "from sklearn.model_selection import train_test_split"
      ],
      "metadata": {
        "id": "1PXT6JD9OX-X"
      },
      "execution_count": null,
      "outputs": []
    },
    {
      "cell_type": "code",
      "execution_count": null,
      "metadata": {
        "id": "JL2bHXqdNnM8"
      },
      "outputs": [],
      "source": [
        "path = \"/content/drive/MyDrive/occupancy/position_1/\"\n",
        "\n",
        "\n",
        "\n",
        "df = pd.read_csv(path+'sc6-61_2024-02-07_ver-99.csv', sep = \";\", usecols=['datetime', 'src', 'randomized', 'rssi', 'ssid', 'occupancy'])\n",
        "df = pd.concat([df,pd.read_csv(path+'sc6-61_2024-02-08_ver-99.csv', sep = \";\", usecols=['datetime', 'src', 'randomized', 'rssi', 'ssid', 'occupancy'])])\n",
        "df = pd.concat([df,pd.read_csv(path+'sc6-61_2024-02-09_ver-99.csv', sep = \";\", usecols=['datetime', 'src', 'randomized', 'rssi', 'ssid', 'occupancy'])])\n",
        "df = pd.concat([df,pd.read_csv(path+'sc6-61_2024-02-14_ver-99.csv', sep = \";\", usecols=['datetime', 'src', 'randomized', 'rssi', 'ssid', 'occupancy'])])\n",
        "df = pd.concat([df,pd.read_csv(path+'sc6-61_2024-02-15_ver-99.csv', sep = \";\", usecols=['datetime', 'src', 'randomized', 'rssi', 'ssid', 'occupancy'])])\n",
        "df = pd.concat([df,pd.read_csv(path+'sc6-61_2024-02-21_ver-99.csv', sep = \";\", usecols=['datetime', 'src', 'randomized', 'rssi', 'ssid', 'occupancy'])])\n",
        "df = pd.concat([df,pd.read_csv(path+'sc6-61_2024-02-28_ver-99.csv', sep = \";\", usecols=['datetime', 'src', 'randomized', 'rssi', 'ssid', 'occupancy'])])\n",
        "df = pd.concat([df,pd.read_csv(path+'sc6-61_2024-02-29_ver-99.csv', sep = \";\", usecols=['datetime', 'src', 'randomized', 'rssi', 'ssid', 'occupancy'])])\n",
        "df = pd.concat([df,pd.read_csv(path+'sc6-61_2024-03-06_ver-99.csv', sep = \";\", usecols=['datetime', 'src', 'randomized', 'rssi', 'ssid', 'occupancy'])])\n",
        "df = pd.concat([df,pd.read_csv(path+'sc6-61_2024-03-07_ver-99.csv', sep = \";\", usecols=['datetime', 'src', 'randomized', 'rssi', 'ssid', 'occupancy'])])\n",
        "df = pd.concat([df,pd.read_csv(path+'sc6-61_2024-03-13_ver-99.csv', sep = \";\", usecols=['datetime', 'src', 'randomized', 'rssi', 'ssid', 'occupancy'])])\n",
        "df = pd.concat([df,pd.read_csv(path+'sc6-61_2024-03-14_ver-99.csv', sep = \";\", usecols=['datetime', 'src', 'randomized', 'rssi', 'ssid', 'occupancy'])])\n",
        "df = pd.concat([df,pd.read_csv(path+'sc6-61_2024-03-20_ver-99.csv', sep = \";\", usecols=['datetime', 'src', 'randomized', 'rssi', 'ssid', 'occupancy'])])\n",
        "df = pd.concat([df,pd.read_csv(path+'sc6-61_2024-03-21_ver-99.csv', sep = \";\", usecols=['datetime', 'src', 'randomized', 'rssi', 'ssid', 'occupancy'])])\n",
        "df = pd.concat([df,pd.read_csv(path+'sc6-61_2024-03-22_ver-99.csv', sep = \";\", usecols=['datetime', 'src', 'randomized', 'rssi', 'ssid', 'occupancy'])])\n",
        "df = pd.concat([df,pd.read_csv(path+'sc6-61_2024-03-23_ver-99.csv', sep = \";\", usecols=['datetime', 'src', 'randomized', 'rssi', 'ssid', 'occupancy'])])\n",
        "df = pd.concat([df,pd.read_csv(path+'sc6-61_2024-03-24_ver-99.csv', sep = \";\", usecols=['datetime', 'src', 'randomized', 'rssi', 'ssid', 'occupancy'])])\n",
        "df = pd.concat([df,pd.read_csv(path+'sc6-61_2024-03-27_ver-99.csv', sep = \";\", usecols=['datetime', 'src', 'randomized', 'rssi', 'ssid', 'occupancy'])])\n",
        "df = pd.concat([df,pd.read_csv(path+'sc6-61_2024-03-28_ver-99.csv', sep = \";\", usecols=['datetime', 'src', 'randomized', 'rssi', 'ssid', 'occupancy'])])\n",
        "df = pd.concat([df,pd.read_csv(path+'sc6-61_2024-03-29_ver-99.csv', sep = \";\", usecols=['datetime', 'src', 'randomized', 'rssi', 'ssid', 'occupancy'])])\n",
        "df = pd.concat([df,pd.read_csv(path+'sc6-61_2024-03-30_ver-99.csv', sep = \";\", usecols=['datetime', 'src', 'randomized', 'rssi', 'ssid', 'occupancy'])])\n",
        "df = pd.concat([df,pd.read_csv(path+'sc6-61_2024-03-31_ver-99.csv', sep = \";\", usecols=['datetime', 'src', 'randomized', 'rssi', 'ssid', 'occupancy'])])\n",
        "df = pd.concat([df,pd.read_csv(path+'sc6-61_2024-04-01_ver-99.csv', sep = \";\", usecols=['datetime', 'src', 'randomized', 'rssi', 'ssid', 'occupancy'])])\n",
        "df = pd.concat([df,pd.read_csv(path+'sc6-61_2024-04-03_ver-99.csv', sep = \";\", usecols=['datetime', 'src', 'randomized', 'rssi', 'ssid', 'occupancy'])])\n",
        "df = pd.concat([df,pd.read_csv(path+'sc6-61_2024-04-04_ver-99.csv', sep = \";\", usecols=['datetime', 'src', 'randomized', 'rssi', 'ssid', 'occupancy'])])\n",
        "\n",
        "\n",
        "\n",
        "#Too little RAM for this (works though, if more than 12.7 Gb)\n",
        "#csv_files = glob.glob(path + \"*\"+\"*.csv\")\n",
        "#csv_files = sorted(csv_files)\n",
        "#df = pd.concat((pd.read_csv(filename, sep=\";\", usecols=['datetime', 'src', 'randomized', 'rssi', 'ssid', 'occupancy'], decimal=\".\") for filename in csv_files), ignore_index=True)\n",
        "#del(csv_files)\n",
        "\n",
        "\n",
        "#We change the datetime from string to timestamp\n",
        "df['datetime'] = pd.to_datetime(df['datetime'])\n",
        "\n",
        "#Any probe made by weaker signal is not in the room, and needs to be removed\n",
        "df = df.query(\"rssi > -70\")\n",
        "#We also add a column, \"interval\", allwowing us to work with sets of data in X minutes period\n",
        "#10 is practical, allowing each hour to be divided in six bundles.\n",
        "interval_minutes = 7\n",
        "df['interval'] = df['datetime'].dt.round(f'{interval_minutes}min')\n",
        "\n",
        "df = df[df['occupancy'].notna()]\n",
        "\n",
        "\n",
        "\n",
        "#We also create an array of minutes sets to easily parse our dataframe.\n",
        "minutesSetsdf = df['interval'].unique()\n",
        "for element in range(len(minutesSetsdf)):\n",
        "    element=str(element)\n",
        "\n",
        "listNumberDevices=[]\n",
        "for loop in range(len(minutesSetsdf)):\n",
        "    listNumberDevices.append([])\n",
        "    listNumberDevices[loop].append(0)\n",
        "\n",
        "# ---------------------------------------------------------------\n",
        "\n",
        "irelevant_df1 = pd.read_csv('/content/drive/MyDrive/occupancy/position_1/sc6-61_2024-03-15_ver-99.csv', sep = \";\", usecols=['src'])\n",
        "pd.concat([irelevant_df1,pd.read_csv('/content/drive/MyDrive/occupancy/position_1/sc6-61_2024-03-16_ver-99.csv', sep = \";\", usecols=['src'])])\n",
        "pd.concat([irelevant_df1,pd.read_csv('/content/drive/MyDrive/occupancy/position_1/sc6-61_2024-03-17_ver-99.csv', sep = \";\", usecols=['src'])])\n",
        "\n",
        "\n",
        "dictionary = {'src': [\"dc:fb:48:68:be:e4\", \"dc:fb:48:8c:71:fc\", \"dc:fb:48:2a:52:e0\", \"dc:fb:48:f5:c6:c2\",\n",
        "    \"dc:fb:48:e3:ab:78\", \"dc:fb:48:00:51:90\", \"dc:fb:48:75:d8:42\", \"dc:fb:48:de:86:8d\", \"dc:fb:48:dd:c6:0b\",\n",
        "    \"dc:fb:48:55:d5:78\", \"dc:fb:48:c2:1d:64\", \"40:ec:99:f9:34:a6\", \"40:ec:99:8e:3f:63\", \"40:ec:99:1f:3e:75\"]}\n",
        "desktopWifiMacsList = pd.DataFrame(dictionary, columns=['src'], index=['0', '1', '2', '3', '4', '5','6','7','8','9','10','11','12','13'])\n",
        "\n",
        "\n",
        "\n",
        "irelevant_df1 = pd.DataFrame(pd.concat([irelevant_df1, desktopWifiMacsList]))\n",
        "irelevant_df1 = pd.DataFrame(irelevant_df1[\"src\"].unique()).reset_index(drop = True)\n",
        "\n",
        "irelevant_df1.rename(columns = {0:'src'}, inplace = True)\n",
        "\n",
        "#Now, we a wide range of IP that do not have an impact on our tests, and is a short as possible (no duplicates)\n",
        "\n",
        "\n",
        "# ---------------------------------------------------------------\n",
        "# Now, here comes the process.\n",
        "#We filter out the banned MACs\n",
        "\n",
        "for ban in range(len(irelevant_df1)):\n",
        "  condition = df[df['src'] == irelevant_df1.iloc[ban][\"src\"]].index\n",
        "  df.drop(condition, inplace=True)\n",
        "df.reset_index(inplace = True, drop=True)\n",
        "\n",
        "df=df.drop(index=df.iloc[21876].name)\n",
        "\n"
      ]
    },
    {
      "cell_type": "code",
      "source": [
        "df"
      ],
      "metadata": {
        "colab": {
          "base_uri": "https://localhost:8080/",
          "height": 597
        },
        "id": "ZgyrvdHtkBa9",
        "outputId": "d9f8d465-1f6b-41eb-d19d-d9839d695af4"
      },
      "execution_count": null,
      "outputs": [
        {
          "output_type": "execute_result",
          "data": {
            "text/plain": [
              "                        datetime                src  randomized  rssi  \\\n",
              "0     2024-02-07 11:43:40.202318  62:2f:91:37:89:aa           1   -66   \n",
              "1     2024-02-07 12:36:40.561535  62:2f:91:37:89:aa           1   -60   \n",
              "2     2024-02-07 13:05:32.421557  f2:03:b0:dd:17:2f           1   -61   \n",
              "3     2024-02-07 13:05:32.442526  f2:03:b0:dd:17:2f           1   -61   \n",
              "4     2024-02-07 13:11:00.198883  0a:55:b1:a6:30:09           1   -55   \n",
              "...                          ...                ...         ...   ...   \n",
              "21871 2024-04-04 18:38:45.666372  46:56:1d:43:18:fc           1   -61   \n",
              "21872 2024-04-04 18:40:42.908564  f6:97:b8:2f:51:7d           1   -61   \n",
              "21873 2024-04-04 18:42:53.429818  5e:60:7c:e2:f7:c7           1   -60   \n",
              "21874 2024-04-04 18:45:14.495094  36:a1:fe:91:63:8a           1   -65   \n",
              "21875 2024-04-04 18:45:33.493950  5e:60:7c:e2:f7:c7           1   -62   \n",
              "\n",
              "                ssid  occupancy            interval  \n",
              "0      SSID_56211587       15.0 2024-02-07 11:45:00  \n",
              "1      SSID_56211587       15.0 2024-02-07 12:34:00  \n",
              "2                NaN       17.0 2024-02-07 13:09:00  \n",
              "3                NaN       17.0 2024-02-07 13:09:00  \n",
              "4                NaN       17.0 2024-02-07 13:09:00  \n",
              "...              ...        ...                 ...  \n",
              "21871  SSID_56211587       17.0 2024-04-04 18:40:00  \n",
              "21872            NaN       17.0 2024-04-04 18:40:00  \n",
              "21873            NaN       17.0 2024-04-04 18:40:00  \n",
              "21874  SSID_56211587       17.0 2024-04-04 18:47:00  \n",
              "21875            NaN       17.0 2024-04-04 18:47:00  \n",
              "\n",
              "[21876 rows x 7 columns]"
            ],
            "text/html": [
              "\n",
              "  <div id=\"df-bca84c57-786a-462f-894a-15db0fca422e\" class=\"colab-df-container\">\n",
              "    <div>\n",
              "<style scoped>\n",
              "    .dataframe tbody tr th:only-of-type {\n",
              "        vertical-align: middle;\n",
              "    }\n",
              "\n",
              "    .dataframe tbody tr th {\n",
              "        vertical-align: top;\n",
              "    }\n",
              "\n",
              "    .dataframe thead th {\n",
              "        text-align: right;\n",
              "    }\n",
              "</style>\n",
              "<table border=\"1\" class=\"dataframe\">\n",
              "  <thead>\n",
              "    <tr style=\"text-align: right;\">\n",
              "      <th></th>\n",
              "      <th>datetime</th>\n",
              "      <th>src</th>\n",
              "      <th>randomized</th>\n",
              "      <th>rssi</th>\n",
              "      <th>ssid</th>\n",
              "      <th>occupancy</th>\n",
              "      <th>interval</th>\n",
              "    </tr>\n",
              "  </thead>\n",
              "  <tbody>\n",
              "    <tr>\n",
              "      <th>0</th>\n",
              "      <td>2024-02-07 11:43:40.202318</td>\n",
              "      <td>62:2f:91:37:89:aa</td>\n",
              "      <td>1</td>\n",
              "      <td>-66</td>\n",
              "      <td>SSID_56211587</td>\n",
              "      <td>15.0</td>\n",
              "      <td>2024-02-07 11:45:00</td>\n",
              "    </tr>\n",
              "    <tr>\n",
              "      <th>1</th>\n",
              "      <td>2024-02-07 12:36:40.561535</td>\n",
              "      <td>62:2f:91:37:89:aa</td>\n",
              "      <td>1</td>\n",
              "      <td>-60</td>\n",
              "      <td>SSID_56211587</td>\n",
              "      <td>15.0</td>\n",
              "      <td>2024-02-07 12:34:00</td>\n",
              "    </tr>\n",
              "    <tr>\n",
              "      <th>2</th>\n",
              "      <td>2024-02-07 13:05:32.421557</td>\n",
              "      <td>f2:03:b0:dd:17:2f</td>\n",
              "      <td>1</td>\n",
              "      <td>-61</td>\n",
              "      <td>NaN</td>\n",
              "      <td>17.0</td>\n",
              "      <td>2024-02-07 13:09:00</td>\n",
              "    </tr>\n",
              "    <tr>\n",
              "      <th>3</th>\n",
              "      <td>2024-02-07 13:05:32.442526</td>\n",
              "      <td>f2:03:b0:dd:17:2f</td>\n",
              "      <td>1</td>\n",
              "      <td>-61</td>\n",
              "      <td>NaN</td>\n",
              "      <td>17.0</td>\n",
              "      <td>2024-02-07 13:09:00</td>\n",
              "    </tr>\n",
              "    <tr>\n",
              "      <th>4</th>\n",
              "      <td>2024-02-07 13:11:00.198883</td>\n",
              "      <td>0a:55:b1:a6:30:09</td>\n",
              "      <td>1</td>\n",
              "      <td>-55</td>\n",
              "      <td>NaN</td>\n",
              "      <td>17.0</td>\n",
              "      <td>2024-02-07 13:09:00</td>\n",
              "    </tr>\n",
              "    <tr>\n",
              "      <th>...</th>\n",
              "      <td>...</td>\n",
              "      <td>...</td>\n",
              "      <td>...</td>\n",
              "      <td>...</td>\n",
              "      <td>...</td>\n",
              "      <td>...</td>\n",
              "      <td>...</td>\n",
              "    </tr>\n",
              "    <tr>\n",
              "      <th>21871</th>\n",
              "      <td>2024-04-04 18:38:45.666372</td>\n",
              "      <td>46:56:1d:43:18:fc</td>\n",
              "      <td>1</td>\n",
              "      <td>-61</td>\n",
              "      <td>SSID_56211587</td>\n",
              "      <td>17.0</td>\n",
              "      <td>2024-04-04 18:40:00</td>\n",
              "    </tr>\n",
              "    <tr>\n",
              "      <th>21872</th>\n",
              "      <td>2024-04-04 18:40:42.908564</td>\n",
              "      <td>f6:97:b8:2f:51:7d</td>\n",
              "      <td>1</td>\n",
              "      <td>-61</td>\n",
              "      <td>NaN</td>\n",
              "      <td>17.0</td>\n",
              "      <td>2024-04-04 18:40:00</td>\n",
              "    </tr>\n",
              "    <tr>\n",
              "      <th>21873</th>\n",
              "      <td>2024-04-04 18:42:53.429818</td>\n",
              "      <td>5e:60:7c:e2:f7:c7</td>\n",
              "      <td>1</td>\n",
              "      <td>-60</td>\n",
              "      <td>NaN</td>\n",
              "      <td>17.0</td>\n",
              "      <td>2024-04-04 18:40:00</td>\n",
              "    </tr>\n",
              "    <tr>\n",
              "      <th>21874</th>\n",
              "      <td>2024-04-04 18:45:14.495094</td>\n",
              "      <td>36:a1:fe:91:63:8a</td>\n",
              "      <td>1</td>\n",
              "      <td>-65</td>\n",
              "      <td>SSID_56211587</td>\n",
              "      <td>17.0</td>\n",
              "      <td>2024-04-04 18:47:00</td>\n",
              "    </tr>\n",
              "    <tr>\n",
              "      <th>21875</th>\n",
              "      <td>2024-04-04 18:45:33.493950</td>\n",
              "      <td>5e:60:7c:e2:f7:c7</td>\n",
              "      <td>1</td>\n",
              "      <td>-62</td>\n",
              "      <td>NaN</td>\n",
              "      <td>17.0</td>\n",
              "      <td>2024-04-04 18:47:00</td>\n",
              "    </tr>\n",
              "  </tbody>\n",
              "</table>\n",
              "<p>21876 rows × 7 columns</p>\n",
              "</div>\n",
              "    <div class=\"colab-df-buttons\">\n",
              "\n",
              "  <div class=\"colab-df-container\">\n",
              "    <button class=\"colab-df-convert\" onclick=\"convertToInteractive('df-bca84c57-786a-462f-894a-15db0fca422e')\"\n",
              "            title=\"Convert this dataframe to an interactive table.\"\n",
              "            style=\"display:none;\">\n",
              "\n",
              "  <svg xmlns=\"http://www.w3.org/2000/svg\" height=\"24px\" viewBox=\"0 -960 960 960\">\n",
              "    <path d=\"M120-120v-720h720v720H120Zm60-500h600v-160H180v160Zm220 220h160v-160H400v160Zm0 220h160v-160H400v160ZM180-400h160v-160H180v160Zm440 0h160v-160H620v160ZM180-180h160v-160H180v160Zm440 0h160v-160H620v160Z\"/>\n",
              "  </svg>\n",
              "    </button>\n",
              "\n",
              "  <style>\n",
              "    .colab-df-container {\n",
              "      display:flex;\n",
              "      gap: 12px;\n",
              "    }\n",
              "\n",
              "    .colab-df-convert {\n",
              "      background-color: #E8F0FE;\n",
              "      border: none;\n",
              "      border-radius: 50%;\n",
              "      cursor: pointer;\n",
              "      display: none;\n",
              "      fill: #1967D2;\n",
              "      height: 32px;\n",
              "      padding: 0 0 0 0;\n",
              "      width: 32px;\n",
              "    }\n",
              "\n",
              "    .colab-df-convert:hover {\n",
              "      background-color: #E2EBFA;\n",
              "      box-shadow: 0px 1px 2px rgba(60, 64, 67, 0.3), 0px 1px 3px 1px rgba(60, 64, 67, 0.15);\n",
              "      fill: #174EA6;\n",
              "    }\n",
              "\n",
              "    .colab-df-buttons div {\n",
              "      margin-bottom: 4px;\n",
              "    }\n",
              "\n",
              "    [theme=dark] .colab-df-convert {\n",
              "      background-color: #3B4455;\n",
              "      fill: #D2E3FC;\n",
              "    }\n",
              "\n",
              "    [theme=dark] .colab-df-convert:hover {\n",
              "      background-color: #434B5C;\n",
              "      box-shadow: 0px 1px 3px 1px rgba(0, 0, 0, 0.15);\n",
              "      filter: drop-shadow(0px 1px 2px rgba(0, 0, 0, 0.3));\n",
              "      fill: #FFFFFF;\n",
              "    }\n",
              "  </style>\n",
              "\n",
              "    <script>\n",
              "      const buttonEl =\n",
              "        document.querySelector('#df-bca84c57-786a-462f-894a-15db0fca422e button.colab-df-convert');\n",
              "      buttonEl.style.display =\n",
              "        google.colab.kernel.accessAllowed ? 'block' : 'none';\n",
              "\n",
              "      async function convertToInteractive(key) {\n",
              "        const element = document.querySelector('#df-bca84c57-786a-462f-894a-15db0fca422e');\n",
              "        const dataTable =\n",
              "          await google.colab.kernel.invokeFunction('convertToInteractive',\n",
              "                                                    [key], {});\n",
              "        if (!dataTable) return;\n",
              "\n",
              "        const docLinkHtml = 'Like what you see? Visit the ' +\n",
              "          '<a target=\"_blank\" href=https://colab.research.google.com/notebooks/data_table.ipynb>data table notebook</a>'\n",
              "          + ' to learn more about interactive tables.';\n",
              "        element.innerHTML = '';\n",
              "        dataTable['output_type'] = 'display_data';\n",
              "        await google.colab.output.renderOutput(dataTable, element);\n",
              "        const docLink = document.createElement('div');\n",
              "        docLink.innerHTML = docLinkHtml;\n",
              "        element.appendChild(docLink);\n",
              "      }\n",
              "    </script>\n",
              "  </div>\n",
              "\n",
              "\n",
              "<div id=\"df-8a0bfe40-d3da-4c88-a461-65523a0c91da\">\n",
              "  <button class=\"colab-df-quickchart\" onclick=\"quickchart('df-8a0bfe40-d3da-4c88-a461-65523a0c91da')\"\n",
              "            title=\"Suggest charts\"\n",
              "            style=\"display:none;\">\n",
              "\n",
              "<svg xmlns=\"http://www.w3.org/2000/svg\" height=\"24px\"viewBox=\"0 0 24 24\"\n",
              "     width=\"24px\">\n",
              "    <g>\n",
              "        <path d=\"M19 3H5c-1.1 0-2 .9-2 2v14c0 1.1.9 2 2 2h14c1.1 0 2-.9 2-2V5c0-1.1-.9-2-2-2zM9 17H7v-7h2v7zm4 0h-2V7h2v10zm4 0h-2v-4h2v4z\"/>\n",
              "    </g>\n",
              "</svg>\n",
              "  </button>\n",
              "\n",
              "<style>\n",
              "  .colab-df-quickchart {\n",
              "      --bg-color: #E8F0FE;\n",
              "      --fill-color: #1967D2;\n",
              "      --hover-bg-color: #E2EBFA;\n",
              "      --hover-fill-color: #174EA6;\n",
              "      --disabled-fill-color: #AAA;\n",
              "      --disabled-bg-color: #DDD;\n",
              "  }\n",
              "\n",
              "  [theme=dark] .colab-df-quickchart {\n",
              "      --bg-color: #3B4455;\n",
              "      --fill-color: #D2E3FC;\n",
              "      --hover-bg-color: #434B5C;\n",
              "      --hover-fill-color: #FFFFFF;\n",
              "      --disabled-bg-color: #3B4455;\n",
              "      --disabled-fill-color: #666;\n",
              "  }\n",
              "\n",
              "  .colab-df-quickchart {\n",
              "    background-color: var(--bg-color);\n",
              "    border: none;\n",
              "    border-radius: 50%;\n",
              "    cursor: pointer;\n",
              "    display: none;\n",
              "    fill: var(--fill-color);\n",
              "    height: 32px;\n",
              "    padding: 0;\n",
              "    width: 32px;\n",
              "  }\n",
              "\n",
              "  .colab-df-quickchart:hover {\n",
              "    background-color: var(--hover-bg-color);\n",
              "    box-shadow: 0 1px 2px rgba(60, 64, 67, 0.3), 0 1px 3px 1px rgba(60, 64, 67, 0.15);\n",
              "    fill: var(--button-hover-fill-color);\n",
              "  }\n",
              "\n",
              "  .colab-df-quickchart-complete:disabled,\n",
              "  .colab-df-quickchart-complete:disabled:hover {\n",
              "    background-color: var(--disabled-bg-color);\n",
              "    fill: var(--disabled-fill-color);\n",
              "    box-shadow: none;\n",
              "  }\n",
              "\n",
              "  .colab-df-spinner {\n",
              "    border: 2px solid var(--fill-color);\n",
              "    border-color: transparent;\n",
              "    border-bottom-color: var(--fill-color);\n",
              "    animation:\n",
              "      spin 1s steps(1) infinite;\n",
              "  }\n",
              "\n",
              "  @keyframes spin {\n",
              "    0% {\n",
              "      border-color: transparent;\n",
              "      border-bottom-color: var(--fill-color);\n",
              "      border-left-color: var(--fill-color);\n",
              "    }\n",
              "    20% {\n",
              "      border-color: transparent;\n",
              "      border-left-color: var(--fill-color);\n",
              "      border-top-color: var(--fill-color);\n",
              "    }\n",
              "    30% {\n",
              "      border-color: transparent;\n",
              "      border-left-color: var(--fill-color);\n",
              "      border-top-color: var(--fill-color);\n",
              "      border-right-color: var(--fill-color);\n",
              "    }\n",
              "    40% {\n",
              "      border-color: transparent;\n",
              "      border-right-color: var(--fill-color);\n",
              "      border-top-color: var(--fill-color);\n",
              "    }\n",
              "    60% {\n",
              "      border-color: transparent;\n",
              "      border-right-color: var(--fill-color);\n",
              "    }\n",
              "    80% {\n",
              "      border-color: transparent;\n",
              "      border-right-color: var(--fill-color);\n",
              "      border-bottom-color: var(--fill-color);\n",
              "    }\n",
              "    90% {\n",
              "      border-color: transparent;\n",
              "      border-bottom-color: var(--fill-color);\n",
              "    }\n",
              "  }\n",
              "</style>\n",
              "\n",
              "  <script>\n",
              "    async function quickchart(key) {\n",
              "      const quickchartButtonEl =\n",
              "        document.querySelector('#' + key + ' button');\n",
              "      quickchartButtonEl.disabled = true;  // To prevent multiple clicks.\n",
              "      quickchartButtonEl.classList.add('colab-df-spinner');\n",
              "      try {\n",
              "        const charts = await google.colab.kernel.invokeFunction(\n",
              "            'suggestCharts', [key], {});\n",
              "      } catch (error) {\n",
              "        console.error('Error during call to suggestCharts:', error);\n",
              "      }\n",
              "      quickchartButtonEl.classList.remove('colab-df-spinner');\n",
              "      quickchartButtonEl.classList.add('colab-df-quickchart-complete');\n",
              "    }\n",
              "    (() => {\n",
              "      let quickchartButtonEl =\n",
              "        document.querySelector('#df-8a0bfe40-d3da-4c88-a461-65523a0c91da button');\n",
              "      quickchartButtonEl.style.display =\n",
              "        google.colab.kernel.accessAllowed ? 'block' : 'none';\n",
              "    })();\n",
              "  </script>\n",
              "</div>\n",
              "    </div>\n",
              "  </div>\n"
            ],
            "application/vnd.google.colaboratory.intrinsic+json": {
              "type": "dataframe",
              "variable_name": "df",
              "summary": "{\n  \"name\": \"df\",\n  \"rows\": 21876,\n  \"fields\": [\n    {\n      \"column\": \"datetime\",\n      \"properties\": {\n        \"dtype\": \"date\",\n        \"min\": \"2024-02-07 11:43:40.202318\",\n        \"max\": \"2024-04-04 18:45:33.493950\",\n        \"num_unique_values\": 21876,\n        \"samples\": [\n          \"2024-04-03 15:43:00.913044\",\n          \"2024-02-14 18:52:10.544735\",\n          \"2024-02-14 15:26:41.685348\"\n        ],\n        \"semantic_type\": \"\",\n        \"description\": \"\"\n      }\n    },\n    {\n      \"column\": \"src\",\n      \"properties\": {\n        \"dtype\": \"category\",\n        \"num_unique_values\": 4084,\n        \"samples\": [\n          \"02:3d:65:06:66:ba\",\n          \"86:fd:cf:24:62:4c\",\n          \"26:1f:7b:43:3a:2b\"\n        ],\n        \"semantic_type\": \"\",\n        \"description\": \"\"\n      }\n    },\n    {\n      \"column\": \"randomized\",\n      \"properties\": {\n        \"dtype\": \"number\",\n        \"std\": 0,\n        \"min\": 0,\n        \"max\": 1,\n        \"num_unique_values\": 2,\n        \"samples\": [\n          0,\n          1\n        ],\n        \"semantic_type\": \"\",\n        \"description\": \"\"\n      }\n    },\n    {\n      \"column\": \"rssi\",\n      \"properties\": {\n        \"dtype\": \"number\",\n        \"std\": 5,\n        \"min\": -69,\n        \"max\": -34,\n        \"num_unique_values\": 36,\n        \"samples\": [\n          -37,\n          -67\n        ],\n        \"semantic_type\": \"\",\n        \"description\": \"\"\n      }\n    },\n    {\n      \"column\": \"ssid\",\n      \"properties\": {\n        \"dtype\": \"category\",\n        \"num_unique_values\": 123,\n        \"samples\": [\n          \"SSID_08216426\",\n          \"SSID_90838505\"\n        ],\n        \"semantic_type\": \"\",\n        \"description\": \"\"\n      }\n    },\n    {\n      \"column\": \"occupancy\",\n      \"properties\": {\n        \"dtype\": \"number\",\n        \"std\": 3.5944762165323882,\n        \"min\": 0.0,\n        \"max\": 20.0,\n        \"num_unique_values\": 21,\n        \"samples\": [\n          15.0,\n          19.0\n        ],\n        \"semantic_type\": \"\",\n        \"description\": \"\"\n      }\n    },\n    {\n      \"column\": \"interval\",\n      \"properties\": {\n        \"dtype\": \"date\",\n        \"min\": \"2024-02-07 11:45:00\",\n        \"max\": \"2024-04-04 18:47:00\",\n        \"num_unique_values\": 628,\n        \"samples\": [\n          \"2024-04-03 14:47:00\",\n          \"2024-04-03 15:57:00\"\n        ],\n        \"semantic_type\": \"\",\n        \"description\": \"\"\n      }\n    }\n  ]\n}"
            }
          },
          "metadata": {},
          "execution_count": 5
        }
      ]
    },
    {
      "cell_type": "markdown",
      "source": [
        "Here, we will process the data so it is usable by the network."
      ],
      "metadata": {
        "id": "Lfl4LI-eKZ52"
      }
    },
    {
      "cell_type": "code",
      "source": [
        "#src is not usable as a string.\n",
        "#So I change the datastes by adding six columns, each with a byte of the mac addresses\n",
        "df[\"src1\"]=\"\"\n",
        "df[\"src2\"]=\"\"\n",
        "df[\"src3\"]=\"\"\n",
        "df[\"src4\"]=\"\"\n",
        "df[\"src5\"]=\"\"\n",
        "df[\"src6\"]=\"\"\n",
        "for loop in range(len(df)):\n",
        "  df.loc[loop,\"src1\"] = np.float64(int(df['src'][loop][0]+df['src'][loop][1],16))\n",
        "  df.loc[loop,\"src2\"] = np.float64(int(df['src'][loop][3]+df['src'][loop][4],16))\n",
        "  df.loc[loop,\"src3\"] = np.float64(int(df['src'][loop][6]+df['src'][loop][7],16))\n",
        "  df.loc[loop,\"src4\"] = np.float64(int(df['src'][loop][9]+df['src'][loop][10],16))\n",
        "  df.loc[loop,\"src5\"] = np.float64(int(df['src'][loop][15]+df['src'][loop][16],16))\n",
        "  df.loc[loop,\"src6\"] = np.float64(int(df['src'][loop][12]+df['src'][loop][13],16))"
      ],
      "metadata": {
        "id": "mhYeihplOjl5"
      },
      "execution_count": null,
      "outputs": []
    },
    {
      "cell_type": "code",
      "source": [
        "#The data is correctly done, now we need to render it machine-readable for the network.\n",
        "#The datetime and interval are a problem.\n",
        "#I can concatenate dates with hour to make it a string, consider as a number, or directly ask to translate it into seconds\n",
        "#For now, the choice is to do the following.\n",
        "#YYYY-MM-DD-HH-MM-SS\n",
        "#The model may be changed for the second solution, or upgraded to take miliseconds, indicate the day of the week, indicate days-off ...\n",
        "def datetimeIntoInt(date):\n",
        "  return float(date.strftime(\"%Y%m%d%H%M%S\"))\n",
        "\n",
        "#sortie=df[\"datetime\"].apply(datetimeIntoInt)\n",
        "df[\"datetime\"]=df[\"datetime\"].apply(datetimeIntoInt)\n",
        "df[\"interval\"]=df[\"interval\"].apply(datetimeIntoInt)\n"
      ],
      "metadata": {
        "id": "K0_cAbDfQUVq"
      },
      "execution_count": null,
      "outputs": []
    },
    {
      "cell_type": "code",
      "source": [
        "#The ssid is easy, I just to extract the relevant info from the string.\n",
        "\n",
        "def ssidIntoInt(ssid):\n",
        "  value=\"\"\n",
        "  if type(ssid)!=float: #To avoid NaN\n",
        "    for element in ssid:\n",
        "      if element==\"0\" or element==\"1\" or element==\"2\" or element==\"3\" or element==\"4\" or element==\"5\" or element==\"6\" or element==\"7\" or element==\"8\" or element==\"9\":\n",
        "        value=value + str(element)\n",
        "  else: #Because I need integers, not float, I am forced to give 0 instead of NaN\n",
        "    return 0\n",
        "  return float(value)\n",
        "\n",
        "\n",
        "df[\"ssid\"]=df[\"ssid\"].apply(ssidIntoInt)\n"
      ],
      "metadata": {
        "id": "NlFXVSVUtFwK"
      },
      "execution_count": null,
      "outputs": []
    },
    {
      "cell_type": "code",
      "source": [
        "X=df.drop([\"occupancy\",\"src\"], axis='columns') #df without the occupancy (it is in y) and src (we created src1, src2 ... instead)\n",
        "\n",
        "nbClasses=len(df[\"occupancy\"].unique())\n",
        "\n",
        "y=df[\"occupancy\"]\n",
        "\n",
        "#Lots of problem with changing the classes. Does not work for now"
      ],
      "metadata": {
        "id": "dapl0qJnTZfF"
      },
      "execution_count": null,
      "outputs": []
    },
    {
      "cell_type": "code",
      "source": [
        "#In order to make it easier for the model, I tried to remove less frequent cases.\n",
        "y_less_frequent=y\n",
        "\n",
        "y_less_frequent=y_less_frequent.replace([0], 0)\n",
        "y_less_frequent=y_less_frequent.replace([1], 1)\n",
        "y_less_frequent=y_less_frequent.replace([2], 2)\n",
        "y_less_frequent=y_less_frequent.replace([3], 3)\n",
        "y_less_frequent=y_less_frequent.replace([4,5,6,7,8,9], 4)\n",
        "y_less_frequent=y_less_frequent.replace([10], 5)\n",
        "y_less_frequent=y_less_frequent.replace([11], 6)\n",
        "y_less_frequent=y_less_frequent.replace([12], 7)\n",
        "y_less_frequent=y_less_frequent.replace([13], 8)\n",
        "y_less_frequent=y_less_frequent.replace([14], 9)\n",
        "y_less_frequent=y_less_frequent.replace([15], 10)\n",
        "y_less_frequent=y_less_frequent.replace([16], 11)\n",
        "y_less_frequent=y_less_frequent.replace([17], 12)\n",
        "y_less_frequent=y_less_frequent.replace([18], 13)\n",
        "y_less_frequent=y_less_frequent.replace([19], 14)\n",
        "y_less_frequent=y_less_frequent.replace([20,21,22,23,24], 15)#Should there be more, this part has to be modified\n",
        "\n",
        "\n",
        "\n",
        "#In order to have 16 classes, going from 0 to 15, we have to make that strange process.\n",
        "#Here is the dictionnary telling which number is linked to which occupancy.\n",
        "labels = {0:'0',1:'1',2:'2',3:'3',4:'4,5,6,7,8,9',5:'10',6:'11',7:'12',8:'13',9:'14',10:'15',11:'16',12:'17',13:'18',14:'19',15:'20,21,22,23,24'}\n",
        "nbClasses=len(y_less_frequent.unique())\n",
        "\n",
        "#It does not appear to have that much of an impact, positive or negative.\n"
      ],
      "metadata": {
        "id": "NHyeW6QEBJ0h"
      },
      "execution_count": null,
      "outputs": []
    },
    {
      "cell_type": "code",
      "source": [
        " #This one attempt to make close cases the same.\n",
        "y_clustered_three=y\n",
        "\n",
        "\n",
        "y_clustered_three=y_clustered_three.replace([0], 0)\n",
        "y_clustered_three=y_clustered_three.replace([1], 1)\n",
        "y_clustered_three=y_clustered_three.replace([2], 2)\n",
        "y_clustered_three=y_clustered_three.replace([3,4,5], 3)\n",
        "y_clustered_three=y_clustered_three.replace([6,7,8], 4)\n",
        "y_clustered_three=y_clustered_three.replace([9,10,11], 5)\n",
        "y_clustered_three=y_clustered_three.replace([12,13,14], 6)\n",
        "y_clustered_three=y_clustered_three.replace([15,16,17], 7)\n",
        "y_clustered_three=y_clustered_three.replace([18,19,20], 8)\n",
        "y_clustered_three=y_clustered_three.replace([21,22,23,24], 9)\n",
        "\n",
        "\n",
        "#In order to have 11 classes, going from 0 to 10, we have to make that strange process.\n",
        "#Here is the dictionnary telling which number is linked to which occupancy.\n",
        "labels = {0:'0',1:'1',2:'2',3:'3,4,5',4:'6,7,8',5:'9,10,11',6:'12,13,14',7:'15,16,17',8:'18,19,20',9:'21,22,23,24',10:'25+'}\n",
        "nbClasses=len(y_clustered_three.unique())\n",
        "\n",
        "\n",
        "#It is way better this way.\n",
        "#But to which extent to a smaller number of classes, and a lower chance to miss?\n",
        "\n"
      ],
      "metadata": {
        "id": "1UByyzGaBGjq"
      },
      "execution_count": null,
      "outputs": []
    },
    {
      "cell_type": "code",
      "source": [
        "#ATTENTION, run only the one you want to use\n",
        "\n",
        "X_train, X_test, y_train, y_test = train_test_split(X, y)\n",
        "\n",
        "X_train.reset_index(inplace = True,drop = True)\n",
        "X_test.reset_index(inplace = True,drop = True)\n",
        "y_train.reset_index(inplace = True,drop = True)\n",
        "y_test.reset_index(inplace = True,drop = True)"
      ],
      "metadata": {
        "id": "ptdIHGA8BSC1"
      },
      "execution_count": null,
      "outputs": []
    },
    {
      "cell_type": "code",
      "source": [
        "#ATTENTION, run only the one you want to use\n",
        "\n",
        "X_train, X_test, y_train, y_test = train_test_split(X, y_less_frequent)\n",
        "\n",
        "X_train.reset_index(inplace = True,drop = True)\n",
        "X_test.reset_index(inplace = True,drop = True)\n",
        "y_train.reset_index(inplace = True,drop = True)\n",
        "y_test.reset_index(inplace = True,drop = True)"
      ],
      "metadata": {
        "id": "GC5Ad9BxYVsD"
      },
      "execution_count": null,
      "outputs": []
    },
    {
      "cell_type": "code",
      "source": [
        "#ATTENTION, run only the one you want to use\n",
        "\n",
        "X_train, X_test, y_train, y_test = train_test_split(X, y_clustered_three)\n",
        "\n",
        "X_train.reset_index(inplace = True,drop = True)\n",
        "X_test.reset_index(inplace = True,drop = True)\n",
        "y_train.reset_index(inplace = True,drop = True)\n",
        "y_test.reset_index(inplace = True,drop = True)"
      ],
      "metadata": {
        "id": "muWyRxwLLPRQ"
      },
      "execution_count": null,
      "outputs": []
    },
    {
      "cell_type": "markdown",
      "source": [
        "The data part is done. We will go on the network."
      ],
      "metadata": {
        "id": "A8uCssmYqykb"
      }
    },
    {
      "cell_type": "code",
      "source": [
        "X_train_scaled=np.asarray(X_train).astype(('float32'))\n",
        "X_test_scaled=np.asarray(X_test).astype(('float32'))\n",
        "\n",
        "y_train_encoded = to_categorical(y_train, nbClasses)\n",
        "y_test_encoded = to_categorical(y_test, nbClasses)"
      ],
      "metadata": {
        "id": "rJY2kM5Kq26C"
      },
      "execution_count": null,
      "outputs": []
    },
    {
      "cell_type": "markdown",
      "source": [
        "#### Define the model structure"
      ],
      "metadata": {
        "id": "YJneiB9lURMS"
      }
    },
    {
      "cell_type": "code",
      "source": [
        "model = Sequential()\n",
        "\n",
        "model.add(Flatten())\n",
        "\n",
        "\n",
        "model.add(Dense(256, activation='sigmoid'))\n",
        "model.add(Dense(128, activation='relu'))\n",
        "model.add(Dense(nbClasses, activation='softmax'))"
      ],
      "metadata": {
        "id": "FNLWWdw8USjA"
      },
      "execution_count": null,
      "outputs": []
    },
    {
      "cell_type": "code",
      "source": [
        "optimizer = Adamax(learning_rate = 0.0001)\n",
        "model.compile(loss='categorical_crossentropy', optimizer=optimizer, metrics=['accuracy'])\n",
        "\n",
        "#model.summary()"
      ],
      "metadata": {
        "id": "L8qqXHRxUYUR"
      },
      "execution_count": null,
      "outputs": []
    },
    {
      "cell_type": "code",
      "source": [
        "callback = EarlyStopping(monitor='loss', patience=3)\n",
        "history = model.fit(X_train_scaled, y_train_encoded, epochs=20, batch_size=300, validation_split = 0.2, callbacks=[callback])"
      ],
      "metadata": {
        "id": "0YAYxpfUUe3j",
        "colab": {
          "base_uri": "https://localhost:8080/"
        },
        "outputId": "b9c3d456-107e-4e2b-f6a8-c9810e530a67"
      },
      "execution_count": null,
      "outputs": [
        {
          "output_type": "stream",
          "name": "stdout",
          "text": [
            "Epoch 1/20\n",
            "44/44 [==============================] - 2s 10ms/step - loss: 1.6872 - accuracy: 0.3342 - val_loss: 1.5704 - val_accuracy: 0.3437\n",
            "Epoch 2/20\n",
            "44/44 [==============================] - 0s 4ms/step - loss: 1.5898 - accuracy: 0.3342 - val_loss: 1.5499 - val_accuracy: 0.3437\n",
            "Epoch 3/20\n",
            "44/44 [==============================] - 0s 4ms/step - loss: 1.5778 - accuracy: 0.3342 - val_loss: 1.5432 - val_accuracy: 0.3437\n",
            "Epoch 4/20\n",
            "44/44 [==============================] - 0s 4ms/step - loss: 1.5728 - accuracy: 0.3342 - val_loss: 1.5393 - val_accuracy: 0.3437\n",
            "Epoch 5/20\n",
            "44/44 [==============================] - 0s 4ms/step - loss: 1.5701 - accuracy: 0.3342 - val_loss: 1.5378 - val_accuracy: 0.3437\n",
            "Epoch 6/20\n",
            "44/44 [==============================] - 0s 4ms/step - loss: 1.5685 - accuracy: 0.3342 - val_loss: 1.5361 - val_accuracy: 0.3437\n",
            "Epoch 7/20\n",
            "44/44 [==============================] - 0s 4ms/step - loss: 1.5673 - accuracy: 0.3342 - val_loss: 1.5356 - val_accuracy: 0.3437\n",
            "Epoch 8/20\n",
            "44/44 [==============================] - 0s 4ms/step - loss: 1.5664 - accuracy: 0.3342 - val_loss: 1.5343 - val_accuracy: 0.3437\n",
            "Epoch 9/20\n",
            "44/44 [==============================] - 0s 4ms/step - loss: 1.5660 - accuracy: 0.3342 - val_loss: 1.5351 - val_accuracy: 0.3437\n",
            "Epoch 10/20\n",
            "44/44 [==============================] - 0s 4ms/step - loss: 1.5655 - accuracy: 0.3342 - val_loss: 1.5342 - val_accuracy: 0.3437\n",
            "Epoch 11/20\n",
            "44/44 [==============================] - 0s 4ms/step - loss: 1.5650 - accuracy: 0.3342 - val_loss: 1.5336 - val_accuracy: 0.3437\n",
            "Epoch 12/20\n",
            "44/44 [==============================] - 0s 4ms/step - loss: 1.5648 - accuracy: 0.3342 - val_loss: 1.5341 - val_accuracy: 0.3437\n",
            "Epoch 13/20\n",
            "44/44 [==============================] - 0s 4ms/step - loss: 1.5646 - accuracy: 0.3342 - val_loss: 1.5334 - val_accuracy: 0.3437\n",
            "Epoch 14/20\n",
            "44/44 [==============================] - 0s 4ms/step - loss: 1.5642 - accuracy: 0.3342 - val_loss: 1.5333 - val_accuracy: 0.3437\n",
            "Epoch 15/20\n",
            "44/44 [==============================] - 0s 4ms/step - loss: 1.5644 - accuracy: 0.3342 - val_loss: 1.5339 - val_accuracy: 0.3437\n",
            "Epoch 16/20\n",
            "44/44 [==============================] - 0s 4ms/step - loss: 1.5640 - accuracy: 0.3342 - val_loss: 1.5337 - val_accuracy: 0.3437\n",
            "Epoch 17/20\n",
            "44/44 [==============================] - 0s 4ms/step - loss: 1.5639 - accuracy: 0.3342 - val_loss: 1.5332 - val_accuracy: 0.3437\n",
            "Epoch 18/20\n",
            "44/44 [==============================] - 0s 4ms/step - loss: 1.5637 - accuracy: 0.3342 - val_loss: 1.5336 - val_accuracy: 0.3437\n",
            "Epoch 19/20\n",
            "44/44 [==============================] - 0s 4ms/step - loss: 1.5636 - accuracy: 0.3342 - val_loss: 1.5332 - val_accuracy: 0.3437\n",
            "Epoch 20/20\n",
            "44/44 [==============================] - 0s 4ms/step - loss: 1.5636 - accuracy: 0.3342 - val_loss: 1.5334 - val_accuracy: 0.3437\n"
          ]
        }
      ]
    },
    {
      "cell_type": "code",
      "source": [
        "score = model.evaluate(X_test_scaled, y_test_encoded, verbose=0)\n",
        "print('Test loss:', score[0])\n",
        "print(f'Test accuracy: {score[1]*100} %')"
      ],
      "metadata": {
        "id": "rxzJlqyhatAz",
        "colab": {
          "base_uri": "https://localhost:8080/"
        },
        "outputId": "b22753a6-eb1a-4200-eb18-1c26697e8710"
      },
      "execution_count": null,
      "outputs": [
        {
          "output_type": "stream",
          "name": "stdout",
          "text": [
            "Test loss: 1.5650804042816162\n",
            "Test accuracy: 33.27848017215729 %\n"
          ]
        }
      ]
    },
    {
      "cell_type": "code",
      "source": [
        "plt.figure()\n",
        "plt.plot(history.history['loss'])\n",
        "plt.plot(history.history['val_loss'])"
      ],
      "metadata": {
        "colab": {
          "base_uri": "https://localhost:8080/",
          "height": 447
        },
        "id": "djQk8u0VVu1w",
        "outputId": "935f71c5-b6c1-4212-8874-f40e221f1b12"
      },
      "execution_count": null,
      "outputs": [
        {
          "output_type": "execute_result",
          "data": {
            "text/plain": [
              "[<matplotlib.lines.Line2D at 0x7d03b6bb85b0>]"
            ]
          },
          "metadata": {},
          "execution_count": 48
        },
        {
          "output_type": "display_data",
          "data": {
            "text/plain": [
              "<Figure size 640x480 with 1 Axes>"
            ],
            "image/png": "[encoded data removed]"
          },
          "metadata": {}
        }
      ]
    },
    {
      "cell_type": "code",
      "source": [
        "plt.figure()\n",
        "plt.plot(history.history['accuracy'])\n",
        "plt.plot(history.history['val_accuracy'])"
      ],
      "metadata": {
        "colab": {
          "base_uri": "https://localhost:8080/",
          "height": 447
        },
        "id": "qOkgEn32VvNM",
        "outputId": "f899e05c-44ea-4b52-bde5-61821cacf803"
      },
      "execution_count": null,
      "outputs": [
        {
          "output_type": "execute_result",
          "data": {
            "text/plain": [
              "[<matplotlib.lines.Line2D at 0x7d03b6b62020>]"
            ]
          },
          "metadata": {},
          "execution_count": 49
        },
        {
          "output_type": "display_data",
          "data": {
            "text/plain": [
              "<Figure size 640x480 with 1 Axes>"
            ],
            "image/png": "[encoded data removed]"
          },
          "metadata": {}
        }
      ]
    },
    {
      "cell_type": "code",
      "source": [
        "#Not necessary\n",
        "#Now, we create the intervals, and the necessary data.\n",
        "\n",
        "#Now we need to get the number of devices in each interval\n",
        "#We create the necessary variables\n",
        "numberOfDevicesInTimeset=0\n",
        "intervals = pd.DataFrame({\"Timsets\":[],\n",
        "                            \"Values\":[],\n",
        "                          \"Occupancy\":[]})\n",
        "\n",
        "\n",
        "currentInterval=df[\"interval\"][0]\n",
        "\n",
        "\n",
        "maclist=[]\n",
        "\n",
        "for index in range(len(df)):\n",
        "    if df.iloc[index][\"interval\"]==currentInterval:\n",
        "        if len(maclist)==0:\n",
        "            maclist.append(df.iloc[index][\"src\"])\n",
        "            numberOfDevicesInTimeset+=1\n",
        "        else:\n",
        "            boolProb=False\n",
        "            for i in range(len(maclist)):\n",
        "                if maclist[i]==df.iloc[i][\"src\"]:\n",
        "                    boolProb=True\n",
        "                    break\n",
        "            if boolProb==False:\n",
        "                maclist.append(df.iloc[index][\"src\"])\n",
        "                numberOfDevicesInTimeset+=1\n",
        "\n",
        "    else:\n",
        "        maclist=[]\n",
        "        intervals.loc[len(intervals.index)]=[currentInterval, numberOfDevicesInTimeset,df.iloc[index][\"occupancy\"]]\n",
        "        numberOfDevicesInTimeset=0\n",
        "        currentInterval=df.iloc[index][\"interval\"]"
      ],
      "metadata": {
        "id": "-t6ZM48mKTH_"
      },
      "execution_count": null,
      "outputs": []
    },
    {
      "cell_type": "code",
      "source": [
        "#pyplot\n",
        "\n",
        "intervals.plot(x='Timsets', y='Occupancy', kind='line')\n",
        "intervals.plot(y='Values', kind='line')\n",
        "\n",
        "plt.title('Probe Counts Over Time')\n",
        "\n",
        "plt.xlabel('Interval')\n",
        "\n",
        "plt.ylabel('Probe Counts')\n",
        "\n",
        "plt.grid(True)\n",
        "\n",
        "plt.show()\n"
      ],
      "metadata": {
        "id": "MO2R3rMrMePH"
      },
      "execution_count": null,
      "outputs": []
    }
  ]
}